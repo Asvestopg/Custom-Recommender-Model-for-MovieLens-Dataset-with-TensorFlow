{
  "nbformat": 4,
  "nbformat_minor": 0,
  "metadata": {
    "colab": {
      "provenance": [],
      "gpuType": "T4"
    },
    "kernelspec": {
      "name": "python3",
      "display_name": "Python 3"
    },
    "language_info": {
      "name": "python"
    },
    "accelerator": "GPU"
  },
  "cells": [
    {
      "cell_type": "code",
      "execution_count": 2,
      "metadata": {
        "id": "m1BW1nm9US2Z"
      },
      "outputs": [],
      "source": [
        "import numpy as np\n",
        "import pandas as pd\n",
        "from tensorflow.keras.layers import Dense, Input, Embedding, Concatenate, Flatten\n",
        "from sklearn.utils import shuffle\n",
        "from tensorflow.keras.models import Model\n",
        "import matplotlib.pyplot as plt\n"
      ]
    },
    {
      "cell_type": "code",
      "source": [
        "df = pd.read_csv(\"ratings.csv\")"
      ],
      "metadata": {
        "id": "Tc3XY77_XMFR"
      },
      "execution_count": 3,
      "outputs": []
    },
    {
      "cell_type": "code",
      "source": [
        "df"
      ],
      "metadata": {
        "colab": {
          "base_uri": "https://localhost:8080/",
          "height": 424
        },
        "id": "sVIUk-BLXMWr",
        "outputId": "4d1493e2-7f3a-44ee-e230-2911f7a5d04d"
      },
      "execution_count": 4,
      "outputs": [
        {
          "output_type": "execute_result",
          "data": {
            "text/plain": [
              "         userId  movieId  rating   timestamp\n",
              "0             1        2     3.5  1112486027\n",
              "1             1       29     3.5  1112484676\n",
              "2             1       32     3.5  1112484819\n",
              "3             1       47     3.5  1112484727\n",
              "4             1       50     3.5  1112484580\n",
              "...         ...      ...     ...         ...\n",
              "8851792   61168      328     3.5  1170493209\n",
              "8851793   61168      329     3.0  1170430170\n",
              "8851794   61168      332     2.5  1170491743\n",
              "8851795   61168      338     2.0  1171624940\n",
              "8851796   61168      344     4.5       11703\n",
              "\n",
              "[8851797 rows x 4 columns]"
            ],
            "text/html": [
              "\n",
              "  <div id=\"df-60be008a-2372-4447-8fde-7a0b428ae03a\" class=\"colab-df-container\">\n",
              "    <div>\n",
              "<style scoped>\n",
              "    .dataframe tbody tr th:only-of-type {\n",
              "        vertical-align: middle;\n",
              "    }\n",
              "\n",
              "    .dataframe tbody tr th {\n",
              "        vertical-align: top;\n",
              "    }\n",
              "\n",
              "    .dataframe thead th {\n",
              "        text-align: right;\n",
              "    }\n",
              "</style>\n",
              "<table border=\"1\" class=\"dataframe\">\n",
              "  <thead>\n",
              "    <tr style=\"text-align: right;\">\n",
              "      <th></th>\n",
              "      <th>userId</th>\n",
              "      <th>movieId</th>\n",
              "      <th>rating</th>\n",
              "      <th>timestamp</th>\n",
              "    </tr>\n",
              "  </thead>\n",
              "  <tbody>\n",
              "    <tr>\n",
              "      <th>0</th>\n",
              "      <td>1</td>\n",
              "      <td>2</td>\n",
              "      <td>3.5</td>\n",
              "      <td>1112486027</td>\n",
              "    </tr>\n",
              "    <tr>\n",
              "      <th>1</th>\n",
              "      <td>1</td>\n",
              "      <td>29</td>\n",
              "      <td>3.5</td>\n",
              "      <td>1112484676</td>\n",
              "    </tr>\n",
              "    <tr>\n",
              "      <th>2</th>\n",
              "      <td>1</td>\n",
              "      <td>32</td>\n",
              "      <td>3.5</td>\n",
              "      <td>1112484819</td>\n",
              "    </tr>\n",
              "    <tr>\n",
              "      <th>3</th>\n",
              "      <td>1</td>\n",
              "      <td>47</td>\n",
              "      <td>3.5</td>\n",
              "      <td>1112484727</td>\n",
              "    </tr>\n",
              "    <tr>\n",
              "      <th>4</th>\n",
              "      <td>1</td>\n",
              "      <td>50</td>\n",
              "      <td>3.5</td>\n",
              "      <td>1112484580</td>\n",
              "    </tr>\n",
              "    <tr>\n",
              "      <th>...</th>\n",
              "      <td>...</td>\n",
              "      <td>...</td>\n",
              "      <td>...</td>\n",
              "      <td>...</td>\n",
              "    </tr>\n",
              "    <tr>\n",
              "      <th>8851792</th>\n",
              "      <td>61168</td>\n",
              "      <td>328</td>\n",
              "      <td>3.5</td>\n",
              "      <td>1170493209</td>\n",
              "    </tr>\n",
              "    <tr>\n",
              "      <th>8851793</th>\n",
              "      <td>61168</td>\n",
              "      <td>329</td>\n",
              "      <td>3.0</td>\n",
              "      <td>1170430170</td>\n",
              "    </tr>\n",
              "    <tr>\n",
              "      <th>8851794</th>\n",
              "      <td>61168</td>\n",
              "      <td>332</td>\n",
              "      <td>2.5</td>\n",
              "      <td>1170491743</td>\n",
              "    </tr>\n",
              "    <tr>\n",
              "      <th>8851795</th>\n",
              "      <td>61168</td>\n",
              "      <td>338</td>\n",
              "      <td>2.0</td>\n",
              "      <td>1171624940</td>\n",
              "    </tr>\n",
              "    <tr>\n",
              "      <th>8851796</th>\n",
              "      <td>61168</td>\n",
              "      <td>344</td>\n",
              "      <td>4.5</td>\n",
              "      <td>11703</td>\n",
              "    </tr>\n",
              "  </tbody>\n",
              "</table>\n",
              "<p>8851797 rows × 4 columns</p>\n",
              "</div>\n",
              "    <div class=\"colab-df-buttons\">\n",
              "\n",
              "  <div class=\"colab-df-container\">\n",
              "    <button class=\"colab-df-convert\" onclick=\"convertToInteractive('df-60be008a-2372-4447-8fde-7a0b428ae03a')\"\n",
              "            title=\"Convert this dataframe to an interactive table.\"\n",
              "            style=\"display:none;\">\n",
              "\n",
              "  <svg xmlns=\"http://www.w3.org/2000/svg\" height=\"24px\" viewBox=\"0 -960 960 960\">\n",
              "    <path d=\"M120-120v-720h720v720H120Zm60-500h600v-160H180v160Zm220 220h160v-160H400v160Zm0 220h160v-160H400v160ZM180-400h160v-160H180v160Zm440 0h160v-160H620v160ZM180-180h160v-160H180v160Zm440 0h160v-160H620v160Z\"/>\n",
              "  </svg>\n",
              "    </button>\n",
              "\n",
              "  <style>\n",
              "    .colab-df-container {\n",
              "      display:flex;\n",
              "      gap: 12px;\n",
              "    }\n",
              "\n",
              "    .colab-df-convert {\n",
              "      background-color: #E8F0FE;\n",
              "      border: none;\n",
              "      border-radius: 50%;\n",
              "      cursor: pointer;\n",
              "      display: none;\n",
              "      fill: #1967D2;\n",
              "      height: 32px;\n",
              "      padding: 0 0 0 0;\n",
              "      width: 32px;\n",
              "    }\n",
              "\n",
              "    .colab-df-convert:hover {\n",
              "      background-color: #E2EBFA;\n",
              "      box-shadow: 0px 1px 2px rgba(60, 64, 67, 0.3), 0px 1px 3px 1px rgba(60, 64, 67, 0.15);\n",
              "      fill: #174EA6;\n",
              "    }\n",
              "\n",
              "    .colab-df-buttons div {\n",
              "      margin-bottom: 4px;\n",
              "    }\n",
              "\n",
              "    [theme=dark] .colab-df-convert {\n",
              "      background-color: #3B4455;\n",
              "      fill: #D2E3FC;\n",
              "    }\n",
              "\n",
              "    [theme=dark] .colab-df-convert:hover {\n",
              "      background-color: #434B5C;\n",
              "      box-shadow: 0px 1px 3px 1px rgba(0, 0, 0, 0.15);\n",
              "      filter: drop-shadow(0px 1px 2px rgba(0, 0, 0, 0.3));\n",
              "      fill: #FFFFFF;\n",
              "    }\n",
              "  </style>\n",
              "\n",
              "    <script>\n",
              "      const buttonEl =\n",
              "        document.querySelector('#df-60be008a-2372-4447-8fde-7a0b428ae03a button.colab-df-convert');\n",
              "      buttonEl.style.display =\n",
              "        google.colab.kernel.accessAllowed ? 'block' : 'none';\n",
              "\n",
              "      async function convertToInteractive(key) {\n",
              "        const element = document.querySelector('#df-60be008a-2372-4447-8fde-7a0b428ae03a');\n",
              "        const dataTable =\n",
              "          await google.colab.kernel.invokeFunction('convertToInteractive',\n",
              "                                                    [key], {});\n",
              "        if (!dataTable) return;\n",
              "\n",
              "        const docLinkHtml = 'Like what you see? Visit the ' +\n",
              "          '<a target=\"_blank\" href=https://colab.research.google.com/notebooks/data_table.ipynb>data table notebook</a>'\n",
              "          + ' to learn more about interactive tables.';\n",
              "        element.innerHTML = '';\n",
              "        dataTable['output_type'] = 'display_data';\n",
              "        await google.colab.output.renderOutput(dataTable, element);\n",
              "        const docLink = document.createElement('div');\n",
              "        docLink.innerHTML = docLinkHtml;\n",
              "        element.appendChild(docLink);\n",
              "      }\n",
              "    </script>\n",
              "  </div>\n",
              "\n",
              "\n",
              "<div id=\"df-d95369d0-0f38-4f7b-b54c-5d9b6cfe3d2b\">\n",
              "  <button class=\"colab-df-quickchart\" onclick=\"quickchart('df-d95369d0-0f38-4f7b-b54c-5d9b6cfe3d2b')\"\n",
              "            title=\"Suggest charts.\"\n",
              "            style=\"display:none;\">\n",
              "\n",
              "<svg xmlns=\"http://www.w3.org/2000/svg\" height=\"24px\"viewBox=\"0 0 24 24\"\n",
              "     width=\"24px\">\n",
              "    <g>\n",
              "        <path d=\"M19 3H5c-1.1 0-2 .9-2 2v14c0 1.1.9 2 2 2h14c1.1 0 2-.9 2-2V5c0-1.1-.9-2-2-2zM9 17H7v-7h2v7zm4 0h-2V7h2v10zm4 0h-2v-4h2v4z\"/>\n",
              "    </g>\n",
              "</svg>\n",
              "  </button>\n",
              "\n",
              "<style>\n",
              "  .colab-df-quickchart {\n",
              "      --bg-color: #E8F0FE;\n",
              "      --fill-color: #1967D2;\n",
              "      --hover-bg-color: #E2EBFA;\n",
              "      --hover-fill-color: #174EA6;\n",
              "      --disabled-fill-color: #AAA;\n",
              "      --disabled-bg-color: #DDD;\n",
              "  }\n",
              "\n",
              "  [theme=dark] .colab-df-quickchart {\n",
              "      --bg-color: #3B4455;\n",
              "      --fill-color: #D2E3FC;\n",
              "      --hover-bg-color: #434B5C;\n",
              "      --hover-fill-color: #FFFFFF;\n",
              "      --disabled-bg-color: #3B4455;\n",
              "      --disabled-fill-color: #666;\n",
              "  }\n",
              "\n",
              "  .colab-df-quickchart {\n",
              "    background-color: var(--bg-color);\n",
              "    border: none;\n",
              "    border-radius: 50%;\n",
              "    cursor: pointer;\n",
              "    display: none;\n",
              "    fill: var(--fill-color);\n",
              "    height: 32px;\n",
              "    padding: 0;\n",
              "    width: 32px;\n",
              "  }\n",
              "\n",
              "  .colab-df-quickchart:hover {\n",
              "    background-color: var(--hover-bg-color);\n",
              "    box-shadow: 0 1px 2px rgba(60, 64, 67, 0.3), 0 1px 3px 1px rgba(60, 64, 67, 0.15);\n",
              "    fill: var(--button-hover-fill-color);\n",
              "  }\n",
              "\n",
              "  .colab-df-quickchart-complete:disabled,\n",
              "  .colab-df-quickchart-complete:disabled:hover {\n",
              "    background-color: var(--disabled-bg-color);\n",
              "    fill: var(--disabled-fill-color);\n",
              "    box-shadow: none;\n",
              "  }\n",
              "\n",
              "  .colab-df-spinner {\n",
              "    border: 2px solid var(--fill-color);\n",
              "    border-color: transparent;\n",
              "    border-bottom-color: var(--fill-color);\n",
              "    animation:\n",
              "      spin 1s steps(1) infinite;\n",
              "  }\n",
              "\n",
              "  @keyframes spin {\n",
              "    0% {\n",
              "      border-color: transparent;\n",
              "      border-bottom-color: var(--fill-color);\n",
              "      border-left-color: var(--fill-color);\n",
              "    }\n",
              "    20% {\n",
              "      border-color: transparent;\n",
              "      border-left-color: var(--fill-color);\n",
              "      border-top-color: var(--fill-color);\n",
              "    }\n",
              "    30% {\n",
              "      border-color: transparent;\n",
              "      border-left-color: var(--fill-color);\n",
              "      border-top-color: var(--fill-color);\n",
              "      border-right-color: var(--fill-color);\n",
              "    }\n",
              "    40% {\n",
              "      border-color: transparent;\n",
              "      border-right-color: var(--fill-color);\n",
              "      border-top-color: var(--fill-color);\n",
              "    }\n",
              "    60% {\n",
              "      border-color: transparent;\n",
              "      border-right-color: var(--fill-color);\n",
              "    }\n",
              "    80% {\n",
              "      border-color: transparent;\n",
              "      border-right-color: var(--fill-color);\n",
              "      border-bottom-color: var(--fill-color);\n",
              "    }\n",
              "    90% {\n",
              "      border-color: transparent;\n",
              "      border-bottom-color: var(--fill-color);\n",
              "    }\n",
              "  }\n",
              "</style>\n",
              "\n",
              "  <script>\n",
              "    async function quickchart(key) {\n",
              "      const quickchartButtonEl =\n",
              "        document.querySelector('#' + key + ' button');\n",
              "      quickchartButtonEl.disabled = true;  // To prevent multiple clicks.\n",
              "      quickchartButtonEl.classList.add('colab-df-spinner');\n",
              "      try {\n",
              "        const charts = await google.colab.kernel.invokeFunction(\n",
              "            'suggestCharts', [key], {});\n",
              "      } catch (error) {\n",
              "        console.error('Error during call to suggestCharts:', error);\n",
              "      }\n",
              "      quickchartButtonEl.classList.remove('colab-df-spinner');\n",
              "      quickchartButtonEl.classList.add('colab-df-quickchart-complete');\n",
              "    }\n",
              "    (() => {\n",
              "      let quickchartButtonEl =\n",
              "        document.querySelector('#df-d95369d0-0f38-4f7b-b54c-5d9b6cfe3d2b button');\n",
              "      quickchartButtonEl.style.display =\n",
              "        google.colab.kernel.accessAllowed ? 'block' : 'none';\n",
              "    })();\n",
              "  </script>\n",
              "</div>\n",
              "    </div>\n",
              "  </div>\n"
            ]
          },
          "metadata": {},
          "execution_count": 4
        }
      ]
    },
    {
      "cell_type": "code",
      "source": [
        "df.userId = pd.Categorical(df.userId)\n",
        "df[\"new_user_id\"] = df.userId.cat.codes"
      ],
      "metadata": {
        "id": "gYCxsAEiXMxv"
      },
      "execution_count": 5,
      "outputs": []
    },
    {
      "cell_type": "code",
      "source": [
        "df.movieId = pd.Categorical(df.movieId)\n",
        "df[\"new_movie_id\"] = df.movieId.cat.codes"
      ],
      "metadata": {
        "id": "jZhKIEDDXWry"
      },
      "execution_count": 6,
      "outputs": []
    },
    {
      "cell_type": "code",
      "source": [
        "userIds = df[\"new_user_id\"].values\n",
        "movieIds = df[\"new_movie_id\"].values\n",
        "ratings = df[\"rating\"].values"
      ],
      "metadata": {
        "id": "zKkddgv_XW7H"
      },
      "execution_count": 7,
      "outputs": []
    },
    {
      "cell_type": "code",
      "source": [
        "n_train = int(0.75 * len(ratings))"
      ],
      "metadata": {
        "id": "X5LtvYKFXXRb"
      },
      "execution_count": 8,
      "outputs": []
    },
    {
      "cell_type": "code",
      "source": [
        "n_train"
      ],
      "metadata": {
        "colab": {
          "base_uri": "https://localhost:8080/"
        },
        "id": "Byjm2bJLXXgD",
        "outputId": "dae40344-d6fd-40f4-94ee-5c40c6a39d28"
      },
      "execution_count": 9,
      "outputs": [
        {
          "output_type": "execute_result",
          "data": {
            "text/plain": [
              "6638847"
            ]
          },
          "metadata": {},
          "execution_count": 9
        }
      ]
    },
    {
      "cell_type": "code",
      "source": [
        "unique_users = len(set(userIds))\n",
        "unique_movies = len(set(movieIds))"
      ],
      "metadata": {
        "id": "RlgSdZeYbpif"
      },
      "execution_count": 10,
      "outputs": []
    },
    {
      "cell_type": "code",
      "source": [
        "i_user = Input((1,))\n",
        "i_movie = Input((1,))\n",
        "\n",
        "users_emb = Embedding(unique_users,15)(i_user)\n",
        "movies_emb = Embedding(unique_movies,15)(i_movie)\n",
        "\n",
        "users_emb = Flatten()(users_emb)\n",
        "movies_emb = Flatten()(movies_emb)\n",
        "\n",
        "x = Concatenate()([users_emb,movies_emb])\n",
        "\n",
        "x = Dense(1024, activation=\"relu\")(x)\n",
        "x= Dense(1)(x)\n",
        "\n",
        "\n",
        "model = Model(inputs = [i_user,i_movie], outputs = x)\n",
        "\n",
        "\n",
        "model.compile(loss=\"mse\",optimizer = \"sgd\")"
      ],
      "metadata": {
        "id": "IZHKQQwVXXtZ"
      },
      "execution_count": 11,
      "outputs": []
    },
    {
      "cell_type": "code",
      "source": [
        "userIds, movieIds, ratings = shuffle(userIds,movieIds, ratings)"
      ],
      "metadata": {
        "id": "jRqj39JiXX7x"
      },
      "execution_count": 12,
      "outputs": []
    },
    {
      "cell_type": "code",
      "source": [
        "userIds_train =userIds[:n_train]\n",
        "userIds_test=userIds[n_train:]\n",
        "\n",
        "movieIds_train=movieIds[:n_train]\n",
        "movieIds_test=movieIds[n_train:]\n",
        "\n",
        "ratings_train=ratings[:n_train]\n",
        "ratings_test=ratings[n_train:]\n"
      ],
      "metadata": {
        "id": "j_7pTKhodpTz"
      },
      "execution_count": 13,
      "outputs": []
    },
    {
      "cell_type": "code",
      "source": [
        "r = model.fit(\n",
        "    x=[userIds_train,movieIds_train],y= ratings_train,\n",
        "    epochs = 20 ,\n",
        "    batch_size = 1024,\n",
        "    validation_data =([userIds_test,movieIds_test],ratings_test),\n",
        "    verbose =2)"
      ],
      "metadata": {
        "colab": {
          "base_uri": "https://localhost:8080/"
        },
        "id": "j0xq2kl0dpvW",
        "outputId": "ca63c2e1-861f-4a3a-ca2d-fa70610f7a23"
      },
      "execution_count": 15,
      "outputs": [
        {
          "output_type": "stream",
          "name": "stdout",
          "text": [
            "Epoch 1/20\n",
            "6484/6484 - 45s - loss: 1.0978 - val_loss: 1.0068 - 45s/epoch - 7ms/step\n",
            "Epoch 2/20\n",
            "6484/6484 - 28s - loss: 0.9553 - val_loss: 0.9244 - 28s/epoch - 4ms/step\n",
            "Epoch 3/20\n",
            "6484/6484 - 28s - loss: 0.9106 - val_loss: 0.8997 - 28s/epoch - 4ms/step\n",
            "Epoch 4/20\n",
            "6484/6484 - 27s - loss: 0.8879 - val_loss: 0.8763 - 27s/epoch - 4ms/step\n",
            "Epoch 5/20\n",
            "6484/6484 - 28s - loss: 0.8602 - val_loss: 0.8466 - 28s/epoch - 4ms/step\n",
            "Epoch 6/20\n",
            "6484/6484 - 28s - loss: 0.8313 - val_loss: 0.8209 - 28s/epoch - 4ms/step\n",
            "Epoch 7/20\n",
            "6484/6484 - 26s - loss: 0.8076 - val_loss: 0.8014 - 26s/epoch - 4ms/step\n",
            "Epoch 8/20\n",
            "6484/6484 - 27s - loss: 0.7898 - val_loss: 0.7874 - 27s/epoch - 4ms/step\n",
            "Epoch 9/20\n",
            "6484/6484 - 27s - loss: 0.7763 - val_loss: 0.7770 - 27s/epoch - 4ms/step\n",
            "Epoch 10/20\n",
            "6484/6484 - 26s - loss: 0.7661 - val_loss: 0.7697 - 26s/epoch - 4ms/step\n",
            "Epoch 11/20\n",
            "6484/6484 - 26s - loss: 0.7582 - val_loss: 0.7624 - 26s/epoch - 4ms/step\n",
            "Epoch 12/20\n",
            "6484/6484 - 26s - loss: 0.7519 - val_loss: 0.7577 - 26s/epoch - 4ms/step\n",
            "Epoch 13/20\n",
            "6484/6484 - 27s - loss: 0.7469 - val_loss: 0.7543 - 27s/epoch - 4ms/step\n",
            "Epoch 14/20\n",
            "6484/6484 - 27s - loss: 0.7428 - val_loss: 0.7500 - 27s/epoch - 4ms/step\n",
            "Epoch 15/20\n",
            "6484/6484 - 27s - loss: 0.7394 - val_loss: 0.7484 - 27s/epoch - 4ms/step\n",
            "Epoch 16/20\n",
            "6484/6484 - 26s - loss: 0.7365 - val_loss: 0.7454 - 26s/epoch - 4ms/step\n",
            "Epoch 17/20\n",
            "6484/6484 - 28s - loss: 0.7341 - val_loss: 0.7436 - 28s/epoch - 4ms/step\n",
            "Epoch 18/20\n",
            "6484/6484 - 26s - loss: 0.7320 - val_loss: 0.7430 - 26s/epoch - 4ms/step\n",
            "Epoch 19/20\n",
            "6484/6484 - 27s - loss: 0.7302 - val_loss: 0.7408 - 27s/epoch - 4ms/step\n",
            "Epoch 20/20\n",
            "6484/6484 - 27s - loss: 0.7287 - val_loss: 0.7398 - 27s/epoch - 4ms/step\n"
          ]
        }
      ]
    },
    {
      "cell_type": "code",
      "source": [
        "plt.plot(r.history['loss'], label=\"train loss\")\n",
        "plt.plot(r.history['val_loss'], label=\"val loss\")\n",
        "plt.legend()\n",
        "plt.show()"
      ],
      "metadata": {
        "colab": {
          "base_uri": "https://localhost:8080/",
          "height": 430
        },
        "id": "BWxm7uzcdqDc",
        "outputId": "1e1fd49b-2bf5-42db-d205-9054611e1d68"
      },
      "execution_count": 16,
      "outputs": [
        {
          "output_type": "display_data",
          "data": {
            "text/plain": [
              "<Figure size 640x480 with 1 Axes>"
            ],
            "image/png": "[encoded data removed]"
          },
          "metadata": {}
        }
      ]
    },
    {
      "cell_type": "code",
      "source": [
        "#SOTA RMSE ACHIEVED\n",
        "np.sqrt(0.7368)"
      ],
      "metadata": {
        "colab": {
          "base_uri": "https://localhost:8080/"
        },
        "id": "P00tlDe7e_i1",
        "outputId": "f96ddff1-a9fc-496c-e66c-19898136a534"
      },
      "execution_count": 19,
      "outputs": [
        {
          "output_type": "execute_result",
          "data": {
            "text/plain": [
              "0.8583705493549973"
            ]
          },
          "metadata": {},
          "execution_count": 19
        }
      ]
    },
    {
      "cell_type": "code",
      "source": [],
      "metadata": {
        "id": "OVYQe3ogl2DH"
      },
      "execution_count": null,
      "outputs": []
    }
  ]
}